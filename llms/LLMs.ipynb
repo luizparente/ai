{
 "cells": [
  {
   "cell_type": "markdown",
   "id": "4dbc3332",
   "metadata": {},
   "source": [
    "# Large Language Models (LLMs)\n",
    "\n",
    "In this example, we demonstrate the use of a pre-trained sequence-to-sequence model for text generation, specifically translation, using the Hugging Face Transformers library in Python. This aligns with generative AI concepts, as it loads a Large Language Model variant (Flan-T5) to produce output based on input prompts.\n",
    "\n",
    "This snippet shows how LLMs can be deployed for practical tasks. It leverages transfer learning, where a model pre-trained on massive datasets is fine-tuned and used with minimal code. For production, one might add parameters like temperature for controlling randomness in generation or handle batch inputs for efficiency."
   ]
  },
  {
   "cell_type": "code",
   "execution_count": 2,
   "id": "ed9f8994",
   "metadata": {},
   "outputs": [
    {
     "name": "stdout",
     "output_type": "stream",
     "text": [
      "Generated Output: Ich bin friedlich!\n"
     ]
    }
   ],
   "source": [
    "import torch\n",
    "from transformers import AutoModelForSeq2SeqLM, AutoTokenizer\n",
    "\n",
    "# Loading tokenizer and model (PyTorch backend).\n",
    "model_name = \"google/flan-t5-small\"\n",
    "tokenizer = AutoTokenizer.from_pretrained(model_name)\n",
    "model = AutoModelForSeq2SeqLM.from_pretrained(model_name)\n",
    "\n",
    "# Preparing input.\n",
    "input_text = \"Translate to German: I am hungry!\"\n",
    "inputs = tokenizer(input_text, return_tensors=\"pt\")\n",
    "\n",
    "# Generating output.\n",
    "outputs = model.generate(inputs[\"input_ids\"], max_length=50)\n",
    "generated_text = tokenizer.decode(outputs[0], skip_special_tokens=True)\n",
    "\n",
    "print(\"Generated Output:\", generated_text)"
   ]
  }
 ],
 "metadata": {
  "kernelspec": {
   "display_name": "Python 3",
   "language": "python",
   "name": "python3"
  },
  "language_info": {
   "codemirror_mode": {
    "name": "ipython",
    "version": 3
   },
   "file_extension": ".py",
   "mimetype": "text/x-python",
   "name": "python",
   "nbconvert_exporter": "python",
   "pygments_lexer": "ipython3",
   "version": "3.13.5"
  }
 },
 "nbformat": 4,
 "nbformat_minor": 5
}
