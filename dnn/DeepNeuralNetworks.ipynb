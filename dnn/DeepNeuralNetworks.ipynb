{
 "cells": [
  {
   "cell_type": "markdown",
   "id": "a66aecd6",
   "metadata": {},
   "source": [
    "# Deep Neural Networks\n",
    "\n",
    "Neural networks are computational models inspired by biological neural systems, capable of learning complex patterns from data. In this demo, we will first focus on a basic feedforward neural network with one hidden layer containing three neurons, evolving from the perceptron concept discussed in prior overviews. We will then proceed to explore a deep neural network.\n",
    "\n",
    "## Simple Neural Network\n",
    "We first evaluate a simple neural network—a feedforward architecture with one hidden layer of three neurons—using the `SimpleNeuralNetwork` class and a toy dataset from the scikit-learn library."
   ]
  },
  {
   "cell_type": "code",
   "execution_count": 3,
   "id": "858e59d4",
   "metadata": {},
   "outputs": [
    {
     "name": "stdout",
     "output_type": "stream",
     "text": [
      "Epoch 100/1000 - Loss: 0.220842\n",
      "Epoch 200/1000 - Loss: 0.205317\n",
      "Epoch 300/1000 - Loss: 0.157800\n",
      "Epoch 400/1000 - Loss: 0.130629\n",
      "Epoch 500/1000 - Loss: 0.117887\n",
      "Epoch 600/1000 - Loss: 0.107830\n",
      "Epoch 700/1000 - Loss: 0.096188\n",
      "Epoch 800/1000 - Loss: 0.082303\n",
      "Epoch 900/1000 - Loss: 0.067865\n",
      "Epoch 1000/1000 - Loss: 0.054945\n",
      "Test Accuracy: 96.67%\n"
     ]
    }
   ],
   "source": [
    "import numpy as np\n",
    "from sklearn.datasets import load_iris\n",
    "from sklearn.model_selection import train_test_split\n",
    "from sklearn.preprocessing import OneHotEncoder\n",
    "from SimpleNeuralNetwork import SimpleNeuralNetwork\n",
    "\n",
    "np.random.seed(42)\n",
    "\n",
    "# Loading and preparing the Iris dataset.\n",
    "iris = load_iris()\n",
    "X = iris.data.T # Transposing to (4, 150).\n",
    "y = iris.target.reshape(1, -1) # Shape (1, 150).\n",
    "\n",
    "# One-hot-encoding the targets for 3 classes.\n",
    "encoder = OneHotEncoder(sparse_output=False)\n",
    "Y_onehot = encoder.fit_transform(y.T).T # Shape (3, 150).\n",
    "\n",
    "# Splitting into train and test sets (80% train, 20% test).\n",
    "X_train, X_test, Y_train, Y_test = train_test_split(X.T, Y_onehot.T, test_size=0.2, random_state=42)\n",
    "X_train = X_train.T  # Back to (4, 120).\n",
    "X_test = X_test.T    # (4, 30).\n",
    "Y_train = Y_train.T  # (3, 120).\n",
    "Y_test = Y_test.T    # (3, 30).\n",
    "\n",
    "# Initializing and training the network:\n",
    "# - Input size of 4, since there are 4 features to guide our predictions. Each feature will be one node in the input layer.\n",
    "# - Hidden size of 3, to use 3 neurons for predictions. No special reason, number picked at random.\n",
    "# - Output size of 3, because there are 3 target classes for classification. Each class is a node in the output layer.\n",
    "nn = SimpleNeuralNetwork(input_size=4, hidden_size=3, output_size=3, learning_rate=0.1)\n",
    "nn.train(X_train, Y_train, epochs=1000)\n",
    "\n",
    "# Making predictions on the test set.\n",
    "predictions = nn.predict(X_test)\n",
    "\n",
    "# Computing accuracy.\n",
    "true_labels = np.argmax(Y_test, axis=0)\n",
    "accuracy = np.mean(predictions == true_labels) * 100\n",
    "\n",
    "print(f\"Test Accuracy: {accuracy:.2f}%\")"
   ]
  },
  {
   "cell_type": "markdown",
   "id": "57e8b359",
   "metadata": {},
   "source": [
    "## Deep Neural Network\n",
    "\n",
    "Next, we expand the capabilities of the `SimpleNeuralNetwork` class by implementing multiple hidden layers named `DeepNeuralNetwork`. As we will see in the example, this will significantly improve the model's accuracy."
   ]
  },
  {
   "cell_type": "code",
   "execution_count": 4,
   "id": "450c1fca",
   "metadata": {},
   "outputs": [
    {
     "name": "stdout",
     "output_type": "stream",
     "text": [
      "Epoch 100/1000 - Loss: 0.149738\n",
      "Epoch 200/1000 - Loss: 0.666017\n",
      "Epoch 300/1000 - Loss: 0.097092\n",
      "Epoch 400/1000 - Loss: 0.078315\n",
      "Epoch 500/1000 - Loss: 0.069505\n",
      "Epoch 600/1000 - Loss: 0.085480\n",
      "Epoch 700/1000 - Loss: 0.073901\n",
      "Epoch 800/1000 - Loss: 0.067150\n",
      "Epoch 900/1000 - Loss: 0.088294\n",
      "Epoch 1000/1000 - Loss: 0.066818\n",
      "Test Accuracy: 100.00%\n"
     ]
    }
   ],
   "source": [
    "import numpy as np\n",
    "from sklearn.datasets import load_iris\n",
    "from sklearn.model_selection import train_test_split\n",
    "from sklearn.preprocessing import OneHotEncoder\n",
    "from DeepNeuralNetwork import DeepNeuralNetwork\n",
    "\n",
    "np.random.seed(42)\n",
    "\n",
    "# Loading and preparing the data.\n",
    "iris = load_iris()\n",
    "X = iris.data.T # Shape (4, 150).\n",
    "y = iris.target.reshape(1, -1) # Shape (1, 150)\n",
    "\n",
    "encoder = OneHotEncoder(sparse_output=False)\n",
    "Y_onehot = encoder.fit_transform(y.T).T # Shape (3, 150)\n",
    "\n",
    "X_train, X_test, Y_train, Y_test = train_test_split(X.T, Y_onehot.T, test_size=0.2, random_state=42)\n",
    "X_train = X_train.T # (4, 120)\n",
    "X_test = X_test.T   # (4, 30)\n",
    "Y_train = Y_train.T # (3, 120)\n",
    "Y_test = Y_test.T   # (3, 30)\n",
    "\n",
    "# Initializing and train with N=2 hidden layers, each with 10 neurons.\n",
    "dnn = DeepNeuralNetwork(input_size=4, hidden_sizes=[10, 10], output_size=3, learning_rate=0.1)\n",
    "dnn.train(X_train, Y_train, epochs=1000)\n",
    "\n",
    "# Making predictions and evaluating model.\n",
    "predictions = dnn.predict(X_test)\n",
    "true_labels = np.argmax(Y_test, axis=0)\n",
    "accuracy = np.mean(predictions == true_labels) * 100\n",
    "\n",
    "print(f\"Test Accuracy: {accuracy:.2f}%\")\n"
   ]
  }
 ],
 "metadata": {
  "kernelspec": {
   "display_name": "venv",
   "language": "python",
   "name": "python3"
  },
  "language_info": {
   "codemirror_mode": {
    "name": "ipython",
    "version": 3
   },
   "file_extension": ".py",
   "mimetype": "text/x-python",
   "name": "python",
   "nbconvert_exporter": "python",
   "pygments_lexer": "ipython3",
   "version": "3.13.5"
  }
 },
 "nbformat": 4,
 "nbformat_minor": 5
}
